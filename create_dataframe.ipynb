{
 "cells": [
  {
   "cell_type": "code",
   "execution_count": 1,
   "metadata": {
    "collapsed": true
   },
   "outputs": [],
   "source": [
    "import cv2\n",
    "from matplotlib import pyplot as plt\n",
    "import numpy as np\n",
    "import pandas as pd\n",
    "import os\n",
    "import csv"
   ]
  },
  {
   "cell_type": "code",
   "execution_count": 138,
   "metadata": {
    "collapsed": true
   },
   "outputs": [],
   "source": [
    "def load_annotations(annot_file):\n",
    "    # Annotations are stored in text files containing\n",
    "    # the coordinates of the corners (top-left and bottom-right) of\n",
    "    # the bounding box plus an alfanumeric code indicating the signal type:\n",
    "    # tly, tlx, bry,brx, code\n",
    "    annotations = []\n",
    "    signs       = [] \n",
    "\n",
    "    for line in open(annot_file).read().splitlines():\n",
    "\n",
    "        annot_values = line.split()\n",
    "        annot_values = [x.strip() for x in annot_values]\n",
    "        for ii in range(4):\n",
    "            annot_values[ii] = float(annot_values[ii])\n",
    "        annotations.append(annot_values)\n",
    "        \n",
    "    return annotations"
   ]
  },
  {
   "cell_type": "code",
   "execution_count": 174,
   "metadata": {
    "collapsed": true
   },
   "outputs": [],
   "source": [
    "def create_df(path_images, path_masks, path_gt):\n",
    "    path_ds_images=path_images\n",
    "    path_ds_masks=path_masks\n",
    "    path_ds_gt=path_gt\n",
    "    \n",
    "    listImages =[]\n",
    "    listMask=[]\n",
    "    listGT=[]\n",
    "\n",
    "    # Import Data from directories\n",
    "    for filename in os.listdir(path_ds_images):\n",
    "        if filename.endswith(\".jpg\"):\n",
    "            listImages.append(filename)\n",
    "\n",
    "    for mask in os.listdir(path_ds_masks):\n",
    "        listMask.append(mask)\n",
    "\n",
    "    for annot in os.listdir(path_ds_gt):\n",
    "        listGT.append(load_annotations(path_ds_gt+\"/\"+annot)[0]) #se pone 0 al final para quitar la dimension de mas\n",
    "        \n",
    "    # Create DataFrame from lists\n",
    "    col = ['UpLeft(Y)','UpLeft(X)','DownRight(Y)','DownRight(X)','Type']\n",
    "    df = pd.DataFrame(listGT,columns=col)\n",
    "    df['Image']=listImages\n",
    "    df['Mask']=listMask\n",
    "    \n",
    "    return df"
   ]
  }
 ],
 "metadata": {
  "kernelspec": {
   "display_name": "Python 3",
   "language": "python",
   "name": "python3"
  },
  "language_info": {
   "codemirror_mode": {
    "name": "ipython",
    "version": 3
   },
   "file_extension": ".py",
   "mimetype": "text/x-python",
   "name": "python",
   "nbconvert_exporter": "python",
   "pygments_lexer": "ipython3",
   "version": "3.6.2"
  }
 },
 "nbformat": 4,
 "nbformat_minor": 2
}
