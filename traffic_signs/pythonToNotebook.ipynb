{
 "cells": [
  {
   "cell_type": "code",
   "execution_count": 4,
   "metadata": {},
   "outputs": [],
   "source": [
    "from IPython.nbformat import v3, v4\n",
    "\n",
    "with open(\"traffic_sign_detection.py\") as fpin:\n",
    "    text = fpin.read()\n",
    "\n",
    "nbook = v3.reads_py(text)\n",
    "nbook = v4.upgrade(nbook)  # Upgrade v3 to v4\n",
    "\n",
    "jsonform = v4.writes(nbook) + \"\\n\"\n",
    "with open(\"traffic_sign_detection.ipynb\", \"w\") as fpout:\n",
    "    fpout.write(jsonform)"
   ]
  },
  {
   "cell_type": "code",
   "execution_count": null,
   "metadata": {
    "collapsed": true
   },
   "outputs": [],
   "source": []
  }
 ],
 "metadata": {
  "kernelspec": {
   "display_name": "Python 3",
   "language": "python",
   "name": "python3"
  },
  "language_info": {
   "codemirror_mode": {
    "name": "ipython",
    "version": 3
   },
   "file_extension": ".py",
   "mimetype": "text/x-python",
   "name": "python",
   "nbconvert_exporter": "python",
   "pygments_lexer": "ipython3",
   "version": "3.6.2"
  }
 },
 "nbformat": 4,
 "nbformat_minor": 2
}
