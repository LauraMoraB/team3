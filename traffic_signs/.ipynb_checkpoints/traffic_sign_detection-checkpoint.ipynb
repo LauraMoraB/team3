{
 "cells": [
  {
   "cell_type": "code",
   "execution_count": 1,
   "metadata": {},
   "outputs": [
    {
     "ename": "ModuleNotFoundError",
     "evalue": "No module named 'docopt'",
     "output_type": "error",
     "traceback": [
      "\u001b[1;31m---------------------------------------------------------------------------\u001b[0m",
      "\u001b[1;31mModuleNotFoundError\u001b[0m                       Traceback (most recent call last)",
      "\u001b[1;32m<ipython-input-1-9794c6bc868b>\u001b[0m in \u001b[0;36m<module>\u001b[1;34m()\u001b[0m\n\u001b[0;32m      9\u001b[0m \u001b[1;33m\u001b[0m\u001b[0m\n\u001b[0;32m     10\u001b[0m \u001b[1;33m\u001b[0m\u001b[0m\n\u001b[1;32m---> 11\u001b[1;33m \u001b[1;32mfrom\u001b[0m \u001b[0mdocopt\u001b[0m \u001b[1;32mimport\u001b[0m \u001b[0mdocopt\u001b[0m\u001b[1;33m\u001b[0m\u001b[0m\n\u001b[0m\u001b[0;32m     12\u001b[0m \u001b[1;32mimport\u001b[0m \u001b[0mnumpy\u001b[0m \u001b[1;32mas\u001b[0m \u001b[0mnp\u001b[0m\u001b[1;33m\u001b[0m\u001b[0m\n\u001b[0;32m     13\u001b[0m \u001b[1;32mimport\u001b[0m \u001b[0mfnmatch\u001b[0m\u001b[1;33m\u001b[0m\u001b[0m\n",
      "\u001b[1;31mModuleNotFoundError\u001b[0m: No module named 'docopt'"
     ]
    }
   ],
   "source": [
    "#!/usr/bin/python\n",
    "\"\"\"\n",
    "Usage:\n",
    "  traffic_sign_detection.py <dirName> <outPath> <pixelMethod> [--windowMethod=<wm>] \n",
    "  traffic_sign_detection.py -h | --help\n",
    "Options:\n",
    "  --windowMethod=<wm>        Window method       [default: 'None']\n",
    "\"\"\"\n",
    "\n",
    "from docopt import docopt\n",
    "import numpy as np\n",
    "import fnmatch\n",
    "import os\n",
    "import sys\n",
    "import imageio\n",
    "from candidate_generation_pixel import candidate_generation_pixel\n",
    "from candidate_generation_window import candidate_generation_window\n",
    "from evaluation.load_annotations import load_annotations\n",
    "import evaluation.evaluation_funcs as evalf"
   ]
  },
  {
   "cell_type": "code",
   "execution_count": 2,
   "metadata": {},
   "outputs": [],
   "source": [
    "def traffic_sign_detection(directory, output_dir, pixel_method, window_method):\n",
    "\n",
    "    pixelTP  = 0\n",
    "    pixelFN  = 0\n",
    "    pixelFP  = 0\n",
    "    pixelTN  = 0\n",
    "\n",
    "    windowTP = 0\n",
    "    windowFN = 0\n",
    "    windowFP = 0\n",
    "\n",
    "    window_precision = 0\n",
    "    window_accuracy  = 0\n",
    "\n",
    "    # Load image names in the given directory\n",
    "    file_names = sorted(fnmatch.filter(os.listdir(directory), '*.jpg'))\n",
    "\n",
    "    \n",
    "    for name in file_names:\n",
    "        base, extension = os.path.splitext(name)\n",
    "\n",
    "        # Read file\n",
    "        im = imageio.imread('{}/{}'.format(directory,name))\n",
    "        print ('{}/{}'.format(directory,name))\n",
    "\n",
    "        # Candidate Generation (pixel) ######################################\n",
    "        pixel_candidates = candidate_generation_pixel(im, pixel_method)\n",
    "\n",
    "        \n",
    "        fd = '{}/{}_{}'.format(output_dir, pixel_method, window_method)\n",
    "        if not os.path.exists(fd):\n",
    "            os.makedirs(fd)\n",
    "        \n",
    "        out_mask_name = '{}.png'.format(fd, base)\n",
    "        imageio.imwrite (out_mask_name, np.uint8(np.round(pixel_candidates)))\n",
    "\n",
    "        \n",
    "        if window_method != 'None':\n",
    "            window_candidates = candidate_generation_window(im, pixel_candidates, window_method) \n",
    "        \n",
    "        # Accumulate pixel performance of the current image #################\n",
    "        pixel_annotation = imageio.imread('{}/mask/mask.{}.png'.format(directory,base)) > 0\n",
    "\n",
    "        [localPixelTP, localPixelFP, localPixelFN, localPixelTN] = evalf.performance_accumulation_pixel(pixel_candidates, pixel_annotation)\n",
    "        pixelTP = pixelTP + localPixelTP\n",
    "        pixelFP = pixelFP + localPixelFP\n",
    "        pixelFN = pixelFN + localPixelFN\n",
    "        pixelTN = pixelTN + localPixelTN\n",
    "        \n",
    "        [pixel_precision, pixel_accuracy, pixel_specificity, pixel_sensitivity] = evalf.performance_evaluation_pixel(pixelTP, pixelFP, pixelFN, pixelTN)\n",
    "\n",
    "        if window_method != 'None':\n",
    "            # Accumulate object performance of the current image ################\n",
    "            window_annotationss = load_annotations('{}/gt/gt.{}.txt'.format(directory, base))\n",
    "            [localWindowTP, localWindowFN, localWindowFP] = evalf.performance_accumulation_window(window_candidates, window_annotationss)\n",
    "            windowTP = windowTP + localWindowTP\n",
    "            windowFN = windowFN + localWindowFN\n",
    "            windowFP = windowFP + localWindowFP\n",
    "\n",
    "\n",
    "            # Plot performance evaluation\n",
    "            [window_precision, window_sensitivity, window_accuracy] = evalf.performance_evaluation_window(windowTP, windowFN, windowFP)\n",
    "    \n",
    "    return [pixel_precision, pixel_accuracy, pixel_specificity, pixel_sensitivity, window_precision, window_accuracy]\n",
    "\n"
   ]
  },
  {
   "cell_type": "code",
   "execution_count": 3,
   "metadata": {},
   "outputs": [
    {
     "ename": "NameError",
     "evalue": "name 'docopt' is not defined",
     "output_type": "error",
     "traceback": [
      "\u001b[1;31m---------------------------------------------------------------------------\u001b[0m",
      "\u001b[1;31mNameError\u001b[0m                                 Traceback (most recent call last)",
      "\u001b[1;32m<ipython-input-3-9942d5e42c76>\u001b[0m in \u001b[0;36m<module>\u001b[1;34m()\u001b[0m\n\u001b[0;32m      1\u001b[0m \u001b[1;32mif\u001b[0m \u001b[0m__name__\u001b[0m \u001b[1;33m==\u001b[0m \u001b[1;34m'__main__'\u001b[0m\u001b[1;33m:\u001b[0m\u001b[1;33m\u001b[0m\u001b[0m\n\u001b[0;32m      2\u001b[0m     \u001b[1;31m# read arguments\u001b[0m\u001b[1;33m\u001b[0m\u001b[1;33m\u001b[0m\u001b[0m\n\u001b[1;32m----> 3\u001b[1;33m     \u001b[0margs\u001b[0m \u001b[1;33m=\u001b[0m \u001b[0mdocopt\u001b[0m\u001b[1;33m(\u001b[0m\u001b[0m__doc__\u001b[0m\u001b[1;33m)\u001b[0m\u001b[1;33m\u001b[0m\u001b[0m\n\u001b[0m\u001b[0;32m      4\u001b[0m \u001b[1;33m\u001b[0m\u001b[0m\n\u001b[0;32m      5\u001b[0m     \u001b[0mimages_dir\u001b[0m \u001b[1;33m=\u001b[0m \u001b[0margs\u001b[0m\u001b[1;33m[\u001b[0m\u001b[1;34m'<dirName>'\u001b[0m\u001b[1;33m]\u001b[0m          \u001b[1;31m# Directory with input images and annotations\u001b[0m\u001b[1;33m\u001b[0m\u001b[0m\n",
      "\u001b[1;31mNameError\u001b[0m: name 'docopt' is not defined"
     ]
    }
   ],
   "source": [
    "if __name__ == '__main__':\n",
    "    # read arguments\n",
    "    args = docopt(__doc__)\n",
    "\n",
    "    images_dir = args['<dirName>']          # Directory with input images and annotations\n",
    "                                            # For instance, '../../DataSetDelivered/test'\n",
    "    output_dir = args['<outPath>']          # Directory where to store output masks, etc. For instance '~/m1-results/week1/test'\n",
    "\n",
    "    pixel_precision, pixel_accuracy, pixel_specificity, pixel_sensitivity, window_precision, window_accuracy = traffic_sign_detection(images_dir, output_dir, 'normrgb', 'example1');\n",
    "\n",
    "\n",
    "\n",
    "    print (pixel_precision, pixel_accuracy, pixel_specificity, pixel_sensitivity, window_precision, window_accuracy)\n",
    "\n",
    "    "
   ]
  },
  {
   "cell_type": "code",
   "execution_count": null,
   "metadata": {
    "collapsed": true
   },
   "outputs": [],
   "source": []
  }
 ],
 "metadata": {
  "kernelspec": {
   "display_name": "Python 3",
   "language": "python",
   "name": "python3"
  },
  "language_info": {
   "codemirror_mode": {
    "name": "ipython",
    "version": 3
   },
   "file_extension": ".py",
   "mimetype": "text/x-python",
   "name": "python",
   "nbconvert_exporter": "python",
   "pygments_lexer": "ipython3",
   "version": "3.6.2"
  }
 },
 "nbformat": 4,
 "nbformat_minor": 2
}
